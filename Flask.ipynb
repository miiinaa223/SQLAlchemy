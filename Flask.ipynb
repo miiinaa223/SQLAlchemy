{
 "cells": [
  {
   "cell_type": "code",
   "execution_count": 1,
   "metadata": {},
   "outputs": [],
   "source": [
    "import numpy as np\n",
    "\n",
    "import sqlalchemy\n",
    "from sqlalchemy.ext.automap import automap_base\n",
    "from sqlalchemy.orm import Session\n",
    "from sqlalchemy import create_engine, func\n",
    "\n",
    "from flask import Flask, jsonify"
   ]
  },
  {
   "cell_type": "code",
   "execution_count": 2,
   "metadata": {},
   "outputs": [],
   "source": [
    "# Path to sqlite\n",
    "database_path = \"Resources/hawaii.sqlite\"\n",
    "\n",
    "# Create an engine that can talk to the database\n",
    "engine = create_engine(f\"sqlite:///{database_path}\")\n",
    "\n",
    "\n",
    "# reflect an existing database into a new model\n",
    "Base = automap_base()\n",
    "# reflect the tables\n",
    "Base.prepare(engine, reflect=True)\n",
    "\n",
    "# Save reference to the table\n",
    "Measurement = Base.classes.measurement\n",
    "Station = Base.classes.station"
   ]
  },
  {
   "cell_type": "code",
   "execution_count": 3,
   "metadata": {},
   "outputs": [],
   "source": [
    "app = Flask(__name__)"
   ]
  },
  {
   "cell_type": "code",
   "execution_count": 4,
   "metadata": {},
   "outputs": [],
   "source": [
    "#main page and list available api routes\n",
    "@app.route(\"/\")\n",
    "def welcome ():\n",
    "    return(\n",
    "        f\"Available Routes:<br/>\"\n",
    "        f\"/api/v1.0/precipitation<br/>\"\n",
    "        f\"/api/v1.0/stations<br/>\"\n",
    "        f\"/api/v1.0/tobs\"\n",
    "    )"
   ]
  },
  {
   "cell_type": "code",
   "execution_count": 5,
   "metadata": {},
   "outputs": [],
   "source": [
    "@app.route(\"/api/v1.0/precipitation\")\n",
    "def precipitation():    \n",
    "    prcp_results = session.query(Measurement.date, Measurement.prcp)\n",
    "    session.close()\n",
    "    precipitation= []\n",
    "    for result in prcp_results:\n",
    "        row = {\"date\":\"prcp\"}\n",
    "        row[\"date\"] = result[0]\n",
    "        row[\"prcp\"] = float(result[1])\n",
    "        precipitation.append(row)\n",
    "\n",
    "    return jsonify(precipitation)"
   ]
  },
  {
   "cell_type": "code",
   "execution_count": 6,
   "metadata": {},
   "outputs": [],
   "source": [
    "@app.route(\"/api/v1.0/stations\")\n",
    "def stations():\n",
    "\n",
    "   results = session.query(Station.station).all()\n",
    "   session.close()\n",
    "\n",
    "   station = []\n",
    "   for x in results:\n",
    "       station.append(x)\n",
    "\n",
    "   return jsonify(station)"
   ]
  },
  {
   "cell_type": "code",
   "execution_count": 7,
   "metadata": {},
   "outputs": [],
   "source": [
    "@app.route(\"/api/v1.0/tobs\")\n",
    "def tobs():\n",
    "    tobs_results = session.query(Measurement.station, Measurement.tobs).filter(Measurement.date.between('2016-08-01', '2017-08-01')).all()\n",
    "    \n",
    "    tobs_list=[]\n",
    "    for tobs in tobs_results:\n",
    "        tobs_dict = {}\n",
    "        tobs_dict[\"station\"] = tobs[0]\n",
    "        tobs_dict[\"tobs\"] = float(tobs[1])\n",
    "       \n",
    "        tobs_list.append(tobs_dict)\n",
    "    return jsonify(tobs_list)"
   ]
  },
  {
   "cell_type": "code",
   "execution_count": 8,
   "metadata": {},
   "outputs": [
    {
     "name": "stdout",
     "output_type": "stream",
     "text": [
      " * Serving Flask app \"__main__\" (lazy loading)\n",
      " * Environment: production\n",
      "   WARNING: Do not use the development server in a production environment.\n",
      "   Use a production WSGI server instead.\n",
      " * Debug mode: on\n"
     ]
    },
    {
     "name": "stderr",
     "output_type": "stream",
     "text": [
      " * Running on http://127.0.0.1:5000/ (Press CTRL+C to quit)\n",
      " * Restarting with stat\n"
     ]
    },
    {
     "ename": "SystemExit",
     "evalue": "1",
     "output_type": "error",
     "traceback": [
      "An exception has occurred, use %tb to see the full traceback.\n",
      "\u001b[0;31mSystemExit\u001b[0m\u001b[0;31m:\u001b[0m 1\n"
     ]
    },
    {
     "name": "stderr",
     "output_type": "stream",
     "text": [
      "/Users/miiinaa223/anaconda3/lib/python3.6/site-packages/IPython/core/interactiveshell.py:2969: UserWarning: To exit: use 'exit', 'quit', or Ctrl-D.\n",
      "  warn(\"To exit: use 'exit', 'quit', or Ctrl-D.\", stacklevel=1)\n"
     ]
    }
   ],
   "source": [
    "@app.route(\"/api/v1.0/<start>/<end>\")\n",
    "@app.route(\"/api/v1.0/<start>/\", defaults={\"end\": None})\n",
    "\n",
    "def temp(start, end=None):\n",
    "\n",
    "    if(end):\n",
    "        results = session.query(func.min(Measurement.tobs),func.max(Measurement.tobs),func.avg(Measurement.tobs)).\\\n",
    "        filter(Measurement.date >=start).filter(Measurement.date <= end).all()\n",
    "        session.close()\n",
    "\n",
    "        return jsonify(results)\n",
    "\n",
    "\n",
    "    else:\n",
    "        results = session.query(func.min(Measurement.tobs),func.max(Measurement.tobs),func.avg(Measurement.tobs)).filter(Measurement.date >=start).all()\n",
    "        session.close()\n",
    "\n",
    "        return jsonify(results)\n",
    "\n",
    "\n",
    "\n",
    "if __name__ == '__main__':\n",
    "   app.run(debug=True)"
   ]
  },
  {
   "cell_type": "code",
   "execution_count": null,
   "metadata": {
    "scrolled": true
   },
   "outputs": [],
   "source": []
  }
 ],
 "metadata": {
  "kernelspec": {
   "display_name": "Python 3",
   "language": "python",
   "name": "python3"
  },
  "language_info": {
   "codemirror_mode": {
    "name": "ipython",
    "version": 3
   },
   "file_extension": ".py",
   "mimetype": "text/x-python",
   "name": "python",
   "nbconvert_exporter": "python",
   "pygments_lexer": "ipython3",
   "version": "3.6.8"
  }
 },
 "nbformat": 4,
 "nbformat_minor": 2
}
